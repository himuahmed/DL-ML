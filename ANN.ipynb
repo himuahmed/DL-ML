{
 "cells": [
  {
   "cell_type": "code",
   "execution_count": 19,
   "metadata": {},
   "outputs": [],
   "source": [
    "import numpy as np\n",
    "import matplotlib.pyplot as plt\n",
    "import pandas as pd\n",
    "from sklearn.preprocessing import LabelEncoder, OneHotEncoder\n",
    "from sklearn.model_selection import train_test_split\n",
    "from sklearn.compose import ColumnTransformer\n",
    "from sklearn.preprocessing import StandardScaler "
   ]
  },
  {
   "cell_type": "code",
   "execution_count": 2,
   "metadata": {},
   "outputs": [
    {
     "data": {
      "text/plain": [
       "array([[619, 'France', 'Female', ..., 1, 1, 101348.88],\n",
       "       [608, 'Spain', 'Female', ..., 0, 1, 112542.58],\n",
       "       [502, 'France', 'Female', ..., 1, 0, 113931.57],\n",
       "       ...,\n",
       "       [709, 'France', 'Female', ..., 0, 1, 42085.58],\n",
       "       [772, 'Germany', 'Male', ..., 1, 0, 92888.52],\n",
       "       [792, 'France', 'Female', ..., 1, 0, 38190.78]], dtype=object)"
      ]
     },
     "execution_count": 2,
     "metadata": {},
     "output_type": "execute_result"
    }
   ],
   "source": [
    "dataset = pd.read_csv('Churn_Modelling.csv')\n",
    "X = dataset.iloc[:,3:13].values\n",
    "Y = dataset.iloc[:,13].values\n",
    "X"
   ]
  },
  {
   "cell_type": "code",
   "execution_count": 3,
   "metadata": {},
   "outputs": [
    {
     "name": "stderr",
     "output_type": "stream",
     "text": [
      "C:\\Users\\Kakashi\\Anaconda3\\lib\\site-packages\\sklearn\\preprocessing\\_encoders.py:451: DeprecationWarning: The 'categorical_features' keyword is deprecated in version 0.20 and will be removed in 0.22. You can use the ColumnTransformer instead.\n",
      "  \"use the ColumnTransformer instead.\", DeprecationWarning)\n"
     ]
    },
    {
     "data": {
      "text/plain": [
       "array([[0.0000000e+00, 0.0000000e+00, 6.1900000e+02, ..., 1.0000000e+00,\n",
       "        1.0000000e+00, 1.0134888e+05],\n",
       "       [0.0000000e+00, 1.0000000e+00, 6.0800000e+02, ..., 0.0000000e+00,\n",
       "        1.0000000e+00, 1.1254258e+05],\n",
       "       [0.0000000e+00, 0.0000000e+00, 5.0200000e+02, ..., 1.0000000e+00,\n",
       "        0.0000000e+00, 1.1393157e+05],\n",
       "       ...,\n",
       "       [0.0000000e+00, 0.0000000e+00, 7.0900000e+02, ..., 0.0000000e+00,\n",
       "        1.0000000e+00, 4.2085580e+04],\n",
       "       [1.0000000e+00, 0.0000000e+00, 7.7200000e+02, ..., 1.0000000e+00,\n",
       "        0.0000000e+00, 9.2888520e+04],\n",
       "       [0.0000000e+00, 0.0000000e+00, 7.9200000e+02, ..., 1.0000000e+00,\n",
       "        0.0000000e+00, 3.8190780e+04]])"
      ]
     },
     "execution_count": 3,
     "metadata": {},
     "output_type": "execute_result"
    }
   ],
   "source": [
    "labelencoder_X_1 = LabelEncoder()\n",
    "labelencoder_X_2 = LabelEncoder()\n",
    "\n",
    "#### Encoding string type data to numeric\n",
    "X[:,1] = labelencoder_X_1.fit_transform(X[:,1])\n",
    "X[:,2] = labelencoder_X_2.fit_transform(X[:,2])\n",
    "####\n",
    "\n",
    "\n",
    "##columntransformer = ColumnTransformer([('one_hot_encoder',OneHotEncoder(),[1])],remainder = 'passthrough')\n",
    "##X =np.array(columntransformer.fit_transform(X),dtype = np.float)\n",
    "\n",
    "##### rEmoving dummy trap\n",
    "onehotencoder = OneHotEncoder(categorical_features = [1],handle_unknown='ignore')\n",
    "X =onehotencoder.fit_transform(X).toarray()\n",
    "X = X[:, 1:]\n",
    "X\n",
    "#####"
   ]
  },
  {
   "cell_type": "code",
   "execution_count": 4,
   "metadata": {},
   "outputs": [],
   "source": [
    "X_train,X_test,Y_train,Y_test = train_test_split(X,Y,test_size= .2,random_state = 0)\n"
   ]
  },
  {
   "cell_type": "code",
   "execution_count": 5,
   "metadata": {},
   "outputs": [],
   "source": [
    "sc = StandardScaler()\n",
    "X_train = sc.fit_transform(X_train)\n",
    "X_test =sc.transform(X_test)"
   ]
  },
  {
   "cell_type": "code",
   "execution_count": 6,
   "metadata": {},
   "outputs": [
    {
     "name": "stderr",
     "output_type": "stream",
     "text": [
      "Using TensorFlow backend.\n"
     ]
    }
   ],
   "source": [
    "import keras\n",
    "from keras.models import Sequential ##initiate NN\n",
    "from keras.layers import Dense ## create layers in NN\n"
   ]
  },
  {
   "cell_type": "code",
   "execution_count": 7,
   "metadata": {},
   "outputs": [],
   "source": [
    "classifier = Sequential() ##initialize ann classifier\n",
    "classifier.add(Dense(units=6,kernel_initializer=\"uniform\",activation=\"relu\",input_dim=11)) ##hidden layer & input layer\n",
    "classifier.add(Dense(units=6,kernel_initializer=\"uniform\",activation=\"relu\")) ## 2nd hidden layer\n",
    "classifier.add(Dense(units=1,kernel_initializer=\"uniform\",activation=\"sigmoid\")) ## Final Layer"
   ]
  },
  {
   "cell_type": "code",
   "execution_count": 8,
   "metadata": {},
   "outputs": [],
   "source": [
    "classifier.compile(optimizer=\"adam\",loss=\"binary_crossentropy\",metrics=['accuracy']) ## compile"
   ]
  },
  {
   "cell_type": "code",
   "execution_count": 10,
   "metadata": {},
   "outputs": [
    {
     "name": "stdout",
     "output_type": "stream",
     "text": [
      "Epoch 1/100\n",
      "1710/8000 [=====>........................] - ETA: 0s - loss: 0.4032 - accuracy: 0.8251"
     ]
    },
    {
     "name": "stderr",
     "output_type": "stream",
     "text": [
      "C:\\Users\\Kakashi\\Anaconda3\\lib\\site-packages\\ipykernel_launcher.py:1: UserWarning: The `nb_epoch` argument in `fit` has been renamed `epochs`.\n",
      "  \"\"\"Entry point for launching an IPython kernel.\n"
     ]
    },
    {
     "name": "stdout",
     "output_type": "stream",
     "text": [
      "8000/8000 [==============================] - 1s 92us/step - loss: 0.3959 - accuracy: 0.8345\n",
      "Epoch 2/100\n",
      "8000/8000 [==============================] - 1s 87us/step - loss: 0.3959 - accuracy: 0.8364\n",
      "Epoch 3/100\n",
      "8000/8000 [==============================] - 1s 88us/step - loss: 0.3952 - accuracy: 0.8356\n",
      "Epoch 4/100\n",
      "8000/8000 [==============================] - 1s 86us/step - loss: 0.3955 - accuracy: 0.8353\n",
      "Epoch 5/100\n",
      "8000/8000 [==============================] - 1s 86us/step - loss: 0.3957 - accuracy: 0.8336\n",
      "Epoch 6/100\n",
      "8000/8000 [==============================] - 1s 87us/step - loss: 0.3953 - accuracy: 0.8357\n",
      "Epoch 7/100\n",
      "8000/8000 [==============================] - 1s 86us/step - loss: 0.3952 - accuracy: 0.8354\n",
      "Epoch 8/100\n",
      "8000/8000 [==============================] - 1s 87us/step - loss: 0.3955 - accuracy: 0.8349\n",
      "Epoch 9/100\n",
      "8000/8000 [==============================] - 1s 86us/step - loss: 0.3950 - accuracy: 0.8354\n",
      "Epoch 10/100\n",
      "8000/8000 [==============================] - 1s 86us/step - loss: 0.3950 - accuracy: 0.8365\n",
      "Epoch 11/100\n",
      "8000/8000 [==============================] - 1s 87us/step - loss: 0.3948 - accuracy: 0.8361\n",
      "Epoch 12/100\n",
      "8000/8000 [==============================] - 1s 88us/step - loss: 0.3941 - accuracy: 0.8356\n",
      "Epoch 13/100\n",
      "8000/8000 [==============================] - 1s 87us/step - loss: 0.3951 - accuracy: 0.8354\n",
      "Epoch 14/100\n",
      "8000/8000 [==============================] - 1s 87us/step - loss: 0.3947 - accuracy: 0.8345\n",
      "Epoch 15/100\n",
      "8000/8000 [==============================] - 1s 89us/step - loss: 0.3943 - accuracy: 0.8342\n",
      "Epoch 16/100\n",
      "8000/8000 [==============================] - 1s 86us/step - loss: 0.3945 - accuracy: 0.8354\n",
      "Epoch 17/100\n",
      "8000/8000 [==============================] - 1s 96us/step - loss: 0.3946 - accuracy: 0.8380\n",
      "Epoch 18/100\n",
      "8000/8000 [==============================] - 1s 88us/step - loss: 0.3945 - accuracy: 0.8355\n",
      "Epoch 19/100\n",
      "8000/8000 [==============================] - 1s 88us/step - loss: 0.3950 - accuracy: 0.8351\n",
      "Epoch 20/100\n",
      "8000/8000 [==============================] - 1s 86us/step - loss: 0.3942 - accuracy: 0.8345\n",
      "Epoch 21/100\n",
      "8000/8000 [==============================] - 1s 87us/step - loss: 0.3940 - accuracy: 0.8372\n",
      "Epoch 22/100\n",
      "8000/8000 [==============================] - 1s 86us/step - loss: 0.3951 - accuracy: 0.8357\n",
      "Epoch 23/100\n",
      "8000/8000 [==============================] - 1s 86us/step - loss: 0.3943 - accuracy: 0.8355\n",
      "Epoch 24/100\n",
      "8000/8000 [==============================] - 1s 86us/step - loss: 0.3946 - accuracy: 0.8356\n",
      "Epoch 25/100\n",
      "8000/8000 [==============================] - 1s 86us/step - loss: 0.3939 - accuracy: 0.8359\n",
      "Epoch 26/100\n",
      "8000/8000 [==============================] - 1s 85us/step - loss: 0.3943 - accuracy: 0.8344\n",
      "Epoch 27/100\n",
      "8000/8000 [==============================] - 1s 85us/step - loss: 0.3941 - accuracy: 0.8350\n",
      "Epoch 28/100\n",
      "8000/8000 [==============================] - 1s 84us/step - loss: 0.3942 - accuracy: 0.8363\n",
      "Epoch 29/100\n",
      "8000/8000 [==============================] - 1s 84us/step - loss: 0.3945 - accuracy: 0.8356\n",
      "Epoch 30/100\n",
      "8000/8000 [==============================] - 1s 84us/step - loss: 0.3937 - accuracy: 0.8350\n",
      "Epoch 31/100\n",
      "8000/8000 [==============================] - 1s 84us/step - loss: 0.3942 - accuracy: 0.8360\n",
      "Epoch 32/100\n",
      "8000/8000 [==============================] - 1s 87us/step - loss: 0.3939 - accuracy: 0.8363\n",
      "Epoch 33/100\n",
      "8000/8000 [==============================] - 1s 85us/step - loss: 0.3939 - accuracy: 0.8350\n",
      "Epoch 34/100\n",
      "8000/8000 [==============================] - 1s 85us/step - loss: 0.3943 - accuracy: 0.8364\n",
      "Epoch 35/100\n",
      "8000/8000 [==============================] - 1s 84us/step - loss: 0.3938 - accuracy: 0.8365\n",
      "Epoch 36/100\n",
      "8000/8000 [==============================] - 1s 84us/step - loss: 0.3942 - accuracy: 0.8345\n",
      "Epoch 37/100\n",
      "8000/8000 [==============================] - 1s 84us/step - loss: 0.3943 - accuracy: 0.8342\n",
      "Epoch 38/100\n",
      "8000/8000 [==============================] - 1s 83us/step - loss: 0.3941 - accuracy: 0.8344\n",
      "Epoch 39/100\n",
      "8000/8000 [==============================] - 1s 85us/step - loss: 0.3939 - accuracy: 0.8366\n",
      "Epoch 40/100\n",
      "8000/8000 [==============================] - 1s 87us/step - loss: 0.3941 - accuracy: 0.8360\n",
      "Epoch 41/100\n",
      "8000/8000 [==============================] - 1s 85us/step - loss: 0.3932 - accuracy: 0.8366\n",
      "Epoch 42/100\n",
      "8000/8000 [==============================] - 1s 84us/step - loss: 0.3939 - accuracy: 0.8353\n",
      "Epoch 43/100\n",
      "8000/8000 [==============================] - 1s 84us/step - loss: 0.3934 - accuracy: 0.8380\n",
      "Epoch 44/100\n",
      "8000/8000 [==============================] - 1s 84us/step - loss: 0.3940 - accuracy: 0.8357\n",
      "Epoch 45/100\n",
      "8000/8000 [==============================] - 1s 84us/step - loss: 0.3931 - accuracy: 0.8356\n",
      "Epoch 46/100\n",
      "8000/8000 [==============================] - 1s 84us/step - loss: 0.3931 - accuracy: 0.8376\n",
      "Epoch 47/100\n",
      "8000/8000 [==============================] - 1s 84us/step - loss: 0.3929 - accuracy: 0.8357\n",
      "Epoch 48/100\n",
      "8000/8000 [==============================] - 1s 84us/step - loss: 0.3937 - accuracy: 0.8355\n",
      "Epoch 49/100\n",
      "8000/8000 [==============================] - 1s 85us/step - loss: 0.3932 - accuracy: 0.8354\n",
      "Epoch 50/100\n",
      "8000/8000 [==============================] - 1s 84us/step - loss: 0.3931 - accuracy: 0.8357\n",
      "Epoch 51/100\n",
      "8000/8000 [==============================] - 1s 85us/step - loss: 0.3937 - accuracy: 0.8363\n",
      "Epoch 52/100\n",
      "8000/8000 [==============================] - 1s 84us/step - loss: 0.3931 - accuracy: 0.8378\n",
      "Epoch 53/100\n",
      "8000/8000 [==============================] - 1s 90us/step - loss: 0.3930 - accuracy: 0.8366\n",
      "Epoch 54/100\n",
      "8000/8000 [==============================] - 1s 86us/step - loss: 0.3930 - accuracy: 0.8361\n",
      "Epoch 55/100\n",
      "8000/8000 [==============================] - 1s 84us/step - loss: 0.3928 - accuracy: 0.8356\n",
      "Epoch 56/100\n",
      "8000/8000 [==============================] - 1s 84us/step - loss: 0.3926 - accuracy: 0.8347\n",
      "Epoch 57/100\n",
      "8000/8000 [==============================] - 1s 85us/step - loss: 0.3933 - accuracy: 0.8367\n",
      "Epoch 58/100\n",
      "8000/8000 [==============================] - 1s 87us/step - loss: 0.3925 - accuracy: 0.8341\n",
      "Epoch 59/100\n",
      "8000/8000 [==============================] - 1s 87us/step - loss: 0.3927 - accuracy: 0.8357\n",
      "Epoch 60/100\n",
      "8000/8000 [==============================] - 1s 88us/step - loss: 0.3923 - accuracy: 0.8372\n",
      "Epoch 61/100\n",
      "8000/8000 [==============================] - 1s 87us/step - loss: 0.3922 - accuracy: 0.8374\n",
      "Epoch 62/100\n",
      "8000/8000 [==============================] - 1s 89us/step - loss: 0.3921 - accuracy: 0.8386\n",
      "Epoch 63/100\n",
      "8000/8000 [==============================] - 1s 91us/step - loss: 0.3928 - accuracy: 0.8367\n",
      "Epoch 64/100\n",
      "8000/8000 [==============================] - 1s 89us/step - loss: 0.3924 - accuracy: 0.8366\n",
      "Epoch 65/100\n",
      "8000/8000 [==============================] - 1s 87us/step - loss: 0.3922 - accuracy: 0.8366\n",
      "Epoch 66/100\n",
      "8000/8000 [==============================] - 1s 90us/step - loss: 0.3926 - accuracy: 0.8374\n",
      "Epoch 67/100\n",
      "8000/8000 [==============================] - 1s 85us/step - loss: 0.3928 - accuracy: 0.8366\n",
      "Epoch 68/100\n",
      "8000/8000 [==============================] - 1s 84us/step - loss: 0.3924 - accuracy: 0.8359\n",
      "Epoch 69/100\n",
      "8000/8000 [==============================] - 1s 84us/step - loss: 0.3918 - accuracy: 0.8365\n",
      "Epoch 70/100\n",
      "8000/8000 [==============================] - 1s 86us/step - loss: 0.3919 - accuracy: 0.8382\n",
      "Epoch 71/100\n",
      "8000/8000 [==============================] - 1s 88us/step - loss: 0.3922 - accuracy: 0.8380\n",
      "Epoch 72/100\n",
      "8000/8000 [==============================] - 1s 87us/step - loss: 0.3921 - accuracy: 0.8351\n",
      "Epoch 73/100\n",
      "8000/8000 [==============================] - 1s 85us/step - loss: 0.3921 - accuracy: 0.8369\n",
      "Epoch 74/100\n",
      "8000/8000 [==============================] - 1s 84us/step - loss: 0.3920 - accuracy: 0.8380\n",
      "Epoch 75/100\n",
      "8000/8000 [==============================] - 1s 84us/step - loss: 0.3920 - accuracy: 0.8365\n",
      "Epoch 76/100\n",
      "8000/8000 [==============================] - 1s 84us/step - loss: 0.3917 - accuracy: 0.8367\n",
      "Epoch 77/100\n",
      "8000/8000 [==============================] - 1s 85us/step - loss: 0.3918 - accuracy: 0.8372\n",
      "Epoch 78/100\n",
      "8000/8000 [==============================] - 1s 85us/step - loss: 0.3919 - accuracy: 0.8380\n",
      "Epoch 79/100\n",
      "8000/8000 [==============================] - 1s 85us/step - loss: 0.3913 - accuracy: 0.8380\n",
      "Epoch 80/100\n",
      "8000/8000 [==============================] - 1s 84us/step - loss: 0.3914 - accuracy: 0.8371\n",
      "Epoch 81/100\n",
      "8000/8000 [==============================] - 1s 84us/step - loss: 0.3919 - accuracy: 0.8369\n",
      "Epoch 82/100\n",
      "8000/8000 [==============================] - 1s 87us/step - loss: 0.3922 - accuracy: 0.8367\n",
      "Epoch 83/100\n",
      "8000/8000 [==============================] - 1s 88us/step - loss: 0.3919 - accuracy: 0.8366\n",
      "Epoch 84/100\n",
      "8000/8000 [==============================] - 1s 84us/step - loss: 0.3919 - accuracy: 0.8388\n",
      "Epoch 85/100\n",
      "8000/8000 [==============================] - 1s 83us/step - loss: 0.3917 - accuracy: 0.8372\n",
      "Epoch 86/100\n",
      "8000/8000 [==============================] - 1s 85us/step - loss: 0.3916 - accuracy: 0.8364\n",
      "Epoch 87/100\n",
      "8000/8000 [==============================] - 1s 90us/step - loss: 0.3914 - accuracy: 0.8378\n",
      "Epoch 88/100\n",
      "8000/8000 [==============================] - 1s 86us/step - loss: 0.3914 - accuracy: 0.8360\n",
      "Epoch 89/100\n",
      "8000/8000 [==============================] - 1s 84us/step - loss: 0.3918 - accuracy: 0.8374\n",
      "Epoch 90/100\n",
      "8000/8000 [==============================] - 1s 86us/step - loss: 0.3908 - accuracy: 0.8364\n",
      "Epoch 91/100\n",
      "8000/8000 [==============================] - 1s 86us/step - loss: 0.3913 - accuracy: 0.8359\n",
      "Epoch 92/100\n",
      "8000/8000 [==============================] - 1s 84us/step - loss: 0.3916 - accuracy: 0.8374\n",
      "Epoch 93/100\n",
      "8000/8000 [==============================] - 1s 85us/step - loss: 0.3915 - accuracy: 0.8381\n",
      "Epoch 94/100\n",
      "8000/8000 [==============================] - 1s 86us/step - loss: 0.3915 - accuracy: 0.8384\n",
      "Epoch 95/100\n",
      "8000/8000 [==============================] - 1s 89us/step - loss: 0.3908 - accuracy: 0.8378\n",
      "Epoch 96/100\n",
      "8000/8000 [==============================] - 1s 87us/step - loss: 0.3910 - accuracy: 0.8371\n",
      "Epoch 97/100\n",
      "8000/8000 [==============================] - 1s 84us/step - loss: 0.3912 - accuracy: 0.8370\n",
      "Epoch 98/100\n",
      "8000/8000 [==============================] - 1s 89us/step - loss: 0.3905 - accuracy: 0.8384\n",
      "Epoch 99/100\n",
      "8000/8000 [==============================] - 1s 86us/step - loss: 0.3909 - accuracy: 0.8372\n",
      "Epoch 100/100\n",
      "8000/8000 [==============================] - 1s 84us/step - loss: 0.3909 - accuracy: 0.8365\n"
     ]
    },
    {
     "data": {
      "text/plain": [
       "<keras.callbacks.callbacks.History at 0x26ef982f748>"
      ]
     },
     "execution_count": 10,
     "metadata": {},
     "output_type": "execute_result"
    }
   ],
   "source": [
    "classifier.fit(X_train,Y_train,batch_size=10,nb_epoch = 100)"
   ]
  },
  {
   "cell_type": "code",
   "execution_count": 17,
   "metadata": {},
   "outputs": [
    {
     "data": {
      "text/plain": [
       "array([[False],\n",
       "       [False],\n",
       "       [False],\n",
       "       ...,\n",
       "       [False],\n",
       "       [False],\n",
       "       [False]])"
      ]
     },
     "execution_count": 17,
     "metadata": {},
     "output_type": "execute_result"
    }
   ],
   "source": [
    "y_pred = classifier.predict(X_test)\n",
    "y_pred = (y_pred>0.5) ##return true if y_pred>0\n",
    "y_pred"
   ]
  },
  {
   "cell_type": "code",
   "execution_count": 18,
   "metadata": {},
   "outputs": [
    {
     "data": {
      "text/plain": [
       "array([[1541,   54],\n",
       "       [ 255,  150]], dtype=int64)"
      ]
     },
     "execution_count": 18,
     "metadata": {},
     "output_type": "execute_result"
    }
   ],
   "source": [
    "from sklearn.metrics import confusion_matrix\n",
    "cm = confusion_matrix(Y_test, y_pred)\n",
    "cm"
   ]
  },
  {
   "cell_type": "code",
   "execution_count": 16,
   "metadata": {},
   "outputs": [
    {
     "data": {
      "text/plain": [
       "0.86"
      ]
     },
     "execution_count": 16,
     "metadata": {},
     "output_type": "execute_result"
    }
   ],
   "source": [
    "(1509+211)/2000"
   ]
  },
  {
   "cell_type": "code",
   "execution_count": null,
   "metadata": {},
   "outputs": [],
   "source": []
  },
  {
   "cell_type": "code",
   "execution_count": 1,
   "metadata": {},
   "outputs": [
    {
     "name": "stdout",
     "output_type": "stream",
     "text": [
      "[name: \"/device:CPU:0\"\n",
      "device_type: \"CPU\"\n",
      "memory_limit: 268435456\n",
      "locality {\n",
      "}\n",
      "incarnation: 1380858266641182761\n",
      ", name: \"/device:GPU:0\"\n",
      "device_type: \"GPU\"\n",
      "memory_limit: 6657650197\n",
      "locality {\n",
      "  bus_id: 1\n",
      "  links {\n",
      "  }\n",
      "}\n",
      "incarnation: 791679280342538294\n",
      "physical_device_desc: \"device: 0, name: GeForce GTX 1080, pci bus id: 0000:07:00.0, compute capability: 6.1\"\n",
      "]\n"
     ]
    }
   ],
   "source": [
    "import tensorflow as tf\n",
    "from tensorflow.python.client import device_lib\n",
    "print(device_lib.list_local_devices())"
   ]
  },
  {
   "cell_type": "code",
   "execution_count": null,
   "metadata": {},
   "outputs": [],
   "source": []
  }
 ],
 "metadata": {
  "kernelspec": {
   "display_name": "Python 3",
   "language": "python",
   "name": "python3"
  },
  "language_info": {
   "codemirror_mode": {
    "name": "ipython",
    "version": 3
   },
   "file_extension": ".py",
   "mimetype": "text/x-python",
   "name": "python",
   "nbconvert_exporter": "python",
   "pygments_lexer": "ipython3",
   "version": "3.7.7"
  }
 },
 "nbformat": 4,
 "nbformat_minor": 2
}
